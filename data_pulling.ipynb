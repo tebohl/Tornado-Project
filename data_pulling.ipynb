{
 "cells": [
  {
   "cell_type": "code",
   "execution_count": null,
   "id": "aa76528b",
   "metadata": {},
   "outputs": [],
   "source": [
    "import datetime \n",
    "import pandas as pd\n",
    "import requests\n"
   ]
  },
  {
   "cell_type": "code",
   "execution_count": null,
   "id": "e54b5078",
   "metadata": {},
   "outputs": [],
   "source": [
    "## Start Dates\n",
    "\n",
    "start_date = datetime.date(2010, 1, 1)\n",
    "end_date = datetime.date(2020, 12, 1)\n",
    "delta = datetime.timedelta(days=31)\n",
    "\n",
    "\n",
    "start_list =[]\n",
    "\n",
    "while start_date <= end_date:\n",
    "    start_list.append(start_date)\n",
    "    start_date += delta\n",
    "    \n",
    "start_list"
   ]
  },
  {
   "cell_type": "code",
   "execution_count": null,
   "id": "65a4e3f4",
   "metadata": {},
   "outputs": [],
   "source": [
    "## End Dates\n",
    "\n",
    "start_date = datetime.date(2010, 2, 1)\n",
    "end_date = datetime.date(2021, 1, 1)\n",
    "delta = datetime.timedelta(days=31)\n",
    "\n",
    "\n",
    "end_list =[]\n",
    "\n",
    "while start_date <= end_date:\n",
    "    end_list.append(start_date)\n",
    "    start_date += delta\n",
    "    \n",
    "end_list"
   ]
  },
  {
   "cell_type": "code",
   "execution_count": null,
   "id": "554edd44",
   "metadata": {},
   "outputs": [],
   "source": [
    "#converting lists to strings \n",
    "\n",
    "end_str_list = []\n",
    "for i in range(0,len(end_list)):\n",
    "    end_str_list.append(end_list[i].strftime('%Y%m%d'))\n",
    "    \n",
    "start_str_list =[]\n",
    "for i in range(0,len(start_list)):\n",
    "    start_str_list.append(start_list[i].strftime('%Y%m%d'))\n",
    "    \n",
    "start_str_list"
   ]
  },
  {
   "cell_type": "code",
   "execution_count": null,
   "id": "0c305123",
   "metadata": {},
   "outputs": [],
   "source": [
    "#list of endpoints for API\n",
    "complete_endpoints = []\n",
    "for i in range(0,len(start_str_list)):\n",
    "    complete_endpoints.append(f\"{start_str_list[i]}:{end_str_list[i]}\")\n",
    "\n",
    "complete_endpoints"
   ]
  },
  {
   "cell_type": "code",
   "execution_count": null,
   "id": "a887cd9b",
   "metadata": {},
   "outputs": [],
   "source": [
    "# base url\n",
    "\n",
    "base_url = 'https://www.ncdc.noaa.gov/swdiws/json/nx3tvs/'\n",
    "\n",
    "# CELL_TYPE\":\"VARCHAR2\",\"SHAPE\":\"MDSYS.SDO_GEOMETRY\",\"MAX_SHEAR\":\"NUMBER\",\"WSR_ID\":\"VARCHAR2\",\"MXDV\":\"NUMBER\",\"CELL_ID\":\"VARCHAR2\",\"ZTIME\":\"VARCHAR2\",\"AZIMUTH\":\"NUMBER\",\"RANGE\":\"NUMBER\n",
    "\n",
    "# empty lists\n",
    "cell_type =[]\n",
    "shape =[]\n",
    "max_shear = []\n",
    "wsr_id =[]\n",
    "mxdv = []\n",
    "cell_id =[]\n",
    "ztime = []\n",
    "azimuth = []\n",
    "range_ = []\n",
    "\n",
    "for dates in complete_endpoints:\n",
    "    complete_url = base_url + dates\n",
    "    print(complete_url)\n",
    "    "
   ]
  },
  {
   "cell_type": "code",
   "execution_count": null,
   "id": "213a1f68",
   "metadata": {},
   "outputs": [],
   "source": []
  },
  {
   "cell_type": "code",
   "execution_count": null,
   "id": "98e981b8",
   "metadata": {},
   "outputs": [],
   "source": []
  }
 ],
 "metadata": {
  "kernelspec": {
   "display_name": "Python [conda env:PythonData38] *",
   "language": "python",
   "name": "conda-env-PythonData38-py"
  },
  "language_info": {
   "codemirror_mode": {
    "name": "ipython",
    "version": 3
   },
   "file_extension": ".py",
   "mimetype": "text/x-python",
   "name": "python",
   "nbconvert_exporter": "python",
   "pygments_lexer": "ipython3",
   "version": "3.8.12"
  }
 },
 "nbformat": 4,
 "nbformat_minor": 5
}
