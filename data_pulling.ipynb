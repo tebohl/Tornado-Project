{
 "cells": [
  {
   "cell_type": "code",
   "execution_count": null,
   "id": "aa76528b",
   "metadata": {},
   "outputs": [],
   "source": [
    "#Importing Dependencies\n",
    "import pandas as pd\n",
    "import requests\n",
    "import datetime "
   ]
  },
  {
   "cell_type": "code",
   "execution_count": null,
   "id": "e54b5078",
   "metadata": {},
   "outputs": [],
   "source": [
    "#Start Dates\n",
    "start_date = datetime.date(2010, 1, 1)\n",
    "end_date = datetime.date(2020, 12, 1)\n",
    "delta = datetime.timedelta(days=25)\n",
    "\n",
    "start_list =[]\n",
    "\n",
    "while start_date <= end_date:\n",
    "    start_list.append(start_date)\n",
    "    start_date += delta"
   ]
  },
  {
   "cell_type": "code",
   "execution_count": null,
   "id": "65a4e3f4",
   "metadata": {},
   "outputs": [],
   "source": [
    "#End Dates\n",
    "start_date = datetime.date(2010, 1, 26)\n",
    "end_date = datetime.date(2021, 12, 1)\n",
    "delta = datetime.timedelta(days=25)\n",
    "\n",
    "end_list =[]\n",
    "\n",
    "while start_date <= end_date:\n",
    "    end_list.append(start_date)\n",
    "    start_date += delta"
   ]
  },
  {
   "cell_type": "code",
   "execution_count": null,
   "id": "554edd44",
   "metadata": {},
   "outputs": [],
   "source": [
    "#Converting lists to strings \n",
    "end_str_list = []\n",
    "for i in range(0,len(end_list)):\n",
    "    end_str_list.append(end_list[i].strftime('%Y%m%d'))\n",
    "    \n",
    "start_str_list =[]\n",
    "for i in range(0,len(start_list)):\n",
    "    start_str_list.append(start_list[i].strftime('%Y%m%d'))"
   ]
  },
  {
   "cell_type": "code",
   "execution_count": null,
   "id": "0c305123",
   "metadata": {},
   "outputs": [],
   "source": [
    "#List of endpoints for API\n",
    "complete_endpoints = []\n",
    "for i in range(0,len(start_str_list)):\n",
    "    complete_endpoints.append(f\"{start_str_list[i]}:{end_str_list[i]}\")"
   ]
  },
  {
   "cell_type": "code",
   "execution_count": null,
   "id": "a887cd9b",
   "metadata": {},
   "outputs": [],
   "source": [
    "#Base URL setup\n",
    "base_url = \"https://www.ncdc.noaa.gov/swdiws/json/nx3tvs/\""
   ]
  },
  {
   "cell_type": "code",
   "execution_count": null,
   "id": "213a1f68",
   "metadata": {},
   "outputs": [],
   "source": [
    "#List of all URLs\n",
    "all_urls = []\n",
    "for dates in complete_endpoints:\n",
    "    complete_url = base_url + dates\n",
    "    all_urls.append(complete_url)\n",
    "#print(len(all_urls))"
   ]
  },
  {
   "cell_type": "code",
   "execution_count": null,
   "id": "98e981b8",
   "metadata": {},
   "outputs": [],
   "source": [
    "#List/Variables setup\n",
    "cell_type =[]\n",
    "shape =[]\n",
    "max_shear = []\n",
    "wsr_id =[]\n",
    "mxdv = []\n",
    "cell_id =[]\n",
    "ztime = []\n",
    "azimuth = []\n",
    "range_ = []\n",
    "lat = []\n",
    "lon = []\n",
    "\n",
    "#url_counter = 1\n",
    "\n",
    "# Start of Log\n",
    "print(\"-----------------------------\")\n",
    "print(\"Beginning Data Retrieval - estimated time is <5min\")\n",
    "print(\"-----------------------------\")\n",
    "\n",
    "#----BEGIN Loop----\n",
    "# Looping through urls and appending data to lists\n",
    "for url in all_urls:\n",
    "    try:\n",
    "        response = requests.get(url).json()\n",
    "        for i in range(len(response[\"result\"])):\n",
    "            cell_type.append(response[\"result\"][i][\"CELL_TYPE\"])\n",
    "            shape.append(response[\"result\"][i][\"SHAPE\"])\n",
    "            max_shear.append(response[\"result\"][i][\"MAX_SHEAR\"])\n",
    "            wsr_id.append(response[\"result\"][i][\"WSR_ID\"])\n",
    "            mxdv.append(response[\"result\"][i][\"MXDV\"])\n",
    "            cell_id.append(response[\"result\"][i][\"CELL_ID\"])\n",
    "            ztime.append(response[\"result\"][i][\"ZTIME\"])\n",
    "            azimuth.append(response[\"result\"][i][\"AZIMUTH\"])\n",
    "            range_.append(response[\"result\"][i][\"RANGE\"])\n",
    "            lon.append(response[\"result\"][i][\"SHAPE\"].split()[1:][0].split('(')[1])\n",
    "            lat.append(response[\"result\"][i][\"SHAPE\"].split()[1:][1].split(')')[0])\n",
    "            #print(f\"Processing Record {i} of URL {url_counter}\")\n",
    "        #url_counter += 1\n",
    "    \n",
    "    except(KeyError, IndexError):\n",
    "        print(f\"URL {url} not found. Skipping...\")\n",
    "\n",
    "#----END Loop-----\n",
    "\n",
    "# End of Log\n",
    "print(\"-----------------------------\")\n",
    "print(\"Data Retrieval Complete\")\n",
    "print(\"-----------------------------\") "
   ]
  },
  {
   "cell_type": "code",
   "execution_count": null,
   "id": "29580504",
   "metadata": {},
   "outputs": [],
   "source": [
    "#Creating dataframe of all records\n",
    "dict = {\"Cell_Type\": cell_type,\n",
    "        \"Shape\": shape,\n",
    "        \"Max_Shear\": max_shear,\n",
    "        \"WSR_ID\": wsr_id,\n",
    "        \"MXDV\": mxdv,\n",
    "        \"Cell_ID\": cell_id,\n",
    "        \"zTime\": ztime,\n",
    "        \"Azimuth\": azimuth,\n",
    "        \"Range\": range_,\n",
    "        \"Lat\": lat,\n",
    "        \"Lon\": lon\n",
    "       }\n",
    "\n",
    "df = pd.DataFrame(dict)\n",
    "#df.head()"
   ]
  },
  {
   "cell_type": "code",
   "execution_count": null,
   "id": "f6fca56f",
   "metadata": {},
   "outputs": [],
   "source": [
    "df['Date']=pd.to_datetime(df['zTime']).dt.date\n",
    "df['Time']=pd.to_datetime(df['zTime']).dt.time\n",
    "df['Year']=pd.to_datetime(df['zTime']).dt.year\n",
    "df['Month']=pd.to_datetime(df['zTime']).dt.month"
   ]
  },
  {
   "cell_type": "code",
   "execution_count": null,
   "id": "33722ada",
   "metadata": {},
   "outputs": [],
   "source": [
    "df['PKID']=df['Cell_ID']+df['Year'].astype(str)+df['Month'].astype(str)\n",
    "df.head()"
   ]
  },
  {
   "cell_type": "code",
   "execution_count": null,
   "id": "a80257c0",
   "metadata": {},
   "outputs": [],
   "source": []
  }
 ],
 "metadata": {
  "kernelspec": {
   "display_name": "Python 3 (ipykernel)",
   "language": "python",
   "name": "python3"
  },
  "language_info": {
   "codemirror_mode": {
    "name": "ipython",
    "version": 3
   },
   "file_extension": ".py",
   "mimetype": "text/x-python",
   "name": "python",
   "nbconvert_exporter": "python",
   "pygments_lexer": "ipython3",
   "version": "3.8.12"
  }
 },
 "nbformat": 4,
 "nbformat_minor": 5
}
