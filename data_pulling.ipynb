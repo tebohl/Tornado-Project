{
 "cells": [
  {
   "cell_type": "code",
   "execution_count": null,
   "id": "0d180c84",
   "metadata": {},
   "outputs": [],
   "source": [
    "import datetime "
   ]
  },
  {
   "cell_type": "code",
   "execution_count": null,
   "id": "d7a6a9aa",
   "metadata": {},
   "outputs": [],
   "source": [
    "## Start Dates\n",
    "\n",
    "start_date = datetime.date(2010, 1, 1)\n",
    "end_date = datetime.date(2020, 12, 1)\n",
    "delta = datetime.timedelta(days=31)\n",
    "\n",
    "\n",
    "start_list =[]\n",
    "\n",
    "while start_date <= end_date:\n",
    "    start_list.append(start_date)\n",
    "    start_date += delta\n",
    "    \n",
    "start_list"
   ]
  },
  {
   "cell_type": "code",
   "execution_count": null,
   "id": "ea7ef16b",
   "metadata": {},
   "outputs": [],
   "source": [
    "## End Dates\n",
    "\n",
    "start_date = datetime.date(2010, 2, 1)\n",
    "end_date = datetime.date(2021, 1, 1)\n",
    "delta = datetime.timedelta(days=31)\n",
    "\n",
    "\n",
    "end_list =[]\n",
    "\n",
    "while start_date <= end_date:\n",
    "    end_list.append(start_date)\n",
    "    start_date += delta\n",
    "    \n",
    "end_list"
   ]
  },
  {
   "cell_type": "code",
   "execution_count": null,
   "id": "2e7b158a",
   "metadata": {},
   "outputs": [],
   "source": [
    "#converting lists to strings \n",
    "\n",
    "end_str_list = []\n",
    "for i in range(0,len(end_list)):\n",
    "    end_str_list.append(end_list[i].strftime('%Y%m%d'))\n",
    "    \n",
    "start_str_list =[]\n",
    "for i in range(0,len(start_list)):\n",
    "    start_str_list.append(start_list[i].strftime('%Y%m%d'))\n",
    "    \n",
    "start_str_list"
   ]
  },
  {
   "cell_type": "code",
   "execution_count": null,
   "id": "34652f58",
   "metadata": {},
   "outputs": [],
   "source": [
    "#list of endpoints for API\n",
    "complete_endpoints = []\n",
    "for i in range(0,len(start_str_list)):\n",
    "    complete_endpoints.append(f\"{start_str_list[i]}:{end_str_list[i]}\")\n",
    "\n",
    "complete_endpoints"
   ]
  },
  {
   "cell_type": "code",
   "execution_count": null,
   "id": "c7f7fa98",
   "metadata": {},
   "outputs": [],
   "source": [
    "base_url = 'https://www.ncdc.noaa.gov/swdiws/json/nx3tvs/'\n",
    "\n",
    "for date in complete_endpoints:\n",
    "    response = requests.get(f'{base_url}{complete_endpoints[date]})\n",
    "    "
   ]
  }
 ],
 "metadata": {
  "kernelspec": {
   "display_name": "Python [conda env:PythonData38] *",
   "language": "python",
   "name": "conda-env-PythonData38-py"
  },
  "language_info": {
   "codemirror_mode": {
    "name": "ipython",
    "version": 3
   },
   "file_extension": ".py",
   "mimetype": "text/x-python",
   "name": "python",
   "nbconvert_exporter": "python",
   "pygments_lexer": "ipython3",
   "version": "3.8.12"
  }
 },
 "nbformat": 4,
 "nbformat_minor": 5
}
